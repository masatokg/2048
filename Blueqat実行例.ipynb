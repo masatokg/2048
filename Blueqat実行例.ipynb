{
  "nbformat": 4,
  "nbformat_minor": 0,
  "metadata": {
    "colab": {
      "name": "Blueqat実行例.ipynb",
      "provenance": [],
      "authorship_tag": "ABX9TyPfyZPITSnXIuxDn3clEERJ",
      "include_colab_link": true
    },
    "kernelspec": {
      "name": "python3",
      "display_name": "Python 3"
    }
  },
  "cells": [
    {
      "cell_type": "markdown",
      "metadata": {
        "id": "view-in-github",
        "colab_type": "text"
      },
      "source": [
        "<a href=\"https://colab.research.google.com/github/masatokg/2048/blob/master/Blueqat%E5%AE%9F%E8%A1%8C%E4%BE%8B.ipynb\" target=\"_parent\"><img src=\"https://colab.research.google.com/assets/colab-badge.svg\" alt=\"Open In Colab\"/></a>"
      ]
    },
    {
      "cell_type": "markdown",
      "metadata": {
        "id": "Eolx6eC_VjG0",
        "colab_type": "text"
      },
      "source": [
        "### Blueqatのインストール"
      ]
    },
    {
      "cell_type": "code",
      "metadata": {
        "id": "RAEbIS_3UGZ9",
        "colab_type": "code",
        "colab": {
          "base_uri": "https://localhost:8080/",
          "height": 68
        },
        "outputId": "397c6cf1-48f2-4fea-bba4-d81d73f5cf29"
      },
      "source": [
        "# Blueqatのインストール\n",
        "! pip install Blueqat\n"
      ],
      "execution_count": null,
      "outputs": [
        {
          "output_type": "stream",
          "text": [
            "Requirement already satisfied: Blueqat in /usr/local/lib/python3.6/dist-packages (0.3.17)\n",
            "Requirement already satisfied: scipy>=1.1.0 in /usr/local/lib/python3.6/dist-packages (from Blueqat) (1.4.1)\n",
            "Requirement already satisfied: numpy~=1.12 in /usr/local/lib/python3.6/dist-packages (from Blueqat) (1.18.5)\n"
          ],
          "name": "stdout"
        }
      ]
    },
    {
      "cell_type": "markdown",
      "metadata": {
        "id": "PqlrnVOaWaC5",
        "colab_type": "text"
      },
      "source": [
        "### Blueqatパッケージの回路オブジェクト（Circuit）のimport"
      ]
    },
    {
      "cell_type": "code",
      "metadata": {
        "id": "HoEsXO0gVhz9",
        "colab_type": "code",
        "colab": {}
      },
      "source": [
        "# Blueqatのimport\n",
        "from blueqat import Circuit"
      ],
      "execution_count": null,
      "outputs": []
    },
    {
      "cell_type": "markdown",
      "metadata": {
        "id": "SEMe8-Y7XexY",
        "colab_type": "text"
      },
      "source": [
        "#### 量子ビットの重ね合わせを実行してみる"
      ]
    },
    {
      "cell_type": "code",
      "metadata": {
        "id": "D1bd3bwnWnuW",
        "colab_type": "code",
        "colab": {
          "base_uri": "https://localhost:8080/",
          "height": 34
        },
        "outputId": "f0ed9299-e08e-42f1-f7e0-a9dc12383edc"
      },
      "source": [
        "Circuit().h[0].m[:].run(shots=100)"
      ],
      "execution_count": null,
      "outputs": [
        {
          "output_type": "execute_result",
          "data": {
            "text/plain": [
              "Counter({'0': 48, '1': 52})"
            ]
          },
          "metadata": {
            "tags": []
          },
          "execution_count": 3
        }
      ]
    },
    {
      "cell_type": "markdown",
      "metadata": {
        "id": "BYF9UqSUa6Sr",
        "colab_type": "text"
      },
      "source": [
        "### ２つの量子を重ね合わせ状態にしたあと、測定を試行"
      ]
    },
    {
      "cell_type": "code",
      "metadata": {
        "id": "gyKHuCzFXu8U",
        "colab_type": "code",
        "colab": {
          "base_uri": "https://localhost:8080/",
          "height": 34
        },
        "outputId": "8cae5a01-5a4b-4892-f20e-de10f8946a92"
      },
      "source": [
        "### 100回指向\n",
        "Circuit().h[0,1].m[:].run(shots=100)"
      ],
      "execution_count": null,
      "outputs": [
        {
          "output_type": "execute_result",
          "data": {
            "text/plain": [
              "Counter({'00': 31, '01': 23, '10': 21, '11': 25})"
            ]
          },
          "metadata": {
            "tags": []
          },
          "execution_count": 4
        }
      ]
    },
    {
      "cell_type": "code",
      "metadata": {
        "id": "SaMOElVQbMka",
        "colab_type": "code",
        "colab": {
          "base_uri": "https://localhost:8080/",
          "height": 34
        },
        "outputId": "88673a78-fa96-4a81-e698-85702d1b2682"
      },
      "source": [
        "### 100,000(10万回)指向\n",
        "Circuit().h[0,1].m[:].run(shots=100000)"
      ],
      "execution_count": null,
      "outputs": [
        {
          "output_type": "execute_result",
          "data": {
            "text/plain": [
              "Counter({'00': 24929, '01': 25057, '10': 24971, '11': 25043})"
            ]
          },
          "metadata": {
            "tags": []
          },
          "execution_count": 5
        }
      ]
    },
    {
      "cell_type": "markdown",
      "metadata": {
        "id": "1fCKvopfew6k",
        "colab_type": "text"
      },
      "source": [
        "### 量子もつれをやって結果を絞り込む"
      ]
    },
    {
      "cell_type": "code",
      "metadata": {
        "id": "O3__JqpubfDr",
        "colab_type": "code",
        "colab": {
          "base_uri": "https://localhost:8080/",
          "height": 34
        },
        "outputId": "53bf8ca9-ba08-4312-a13e-a3e4dc05a95d"
      },
      "source": [
        "Circuit().h[0].cx[0,1].m[:].run(shots=100)"
      ],
      "execution_count": null,
      "outputs": [
        {
          "output_type": "execute_result",
          "data": {
            "text/plain": [
              "Counter({'00': 67, '11': 33})"
            ]
          },
          "metadata": {
            "tags": []
          },
          "execution_count": 6
        }
      ]
    },
    {
      "cell_type": "code",
      "metadata": {
        "id": "cU3618cpfGXp",
        "colab_type": "code",
        "colab": {}
      },
      "source": [
        ""
      ],
      "execution_count": null,
      "outputs": []
    }
  ]
}